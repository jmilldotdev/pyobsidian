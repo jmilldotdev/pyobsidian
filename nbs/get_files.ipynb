{
 "cells": [
  {
   "cell_type": "code",
   "execution_count": 1,
   "source": [
    "%load_ext autoreload\n",
    "%autoreload 2\n",
    "\n",
    "import sys\n",
    "sys.path.append('..')"
   ],
   "outputs": [],
   "metadata": {}
  },
  {
   "cell_type": "code",
   "execution_count": 92,
   "source": [
    "from pathlib import Path\n",
    "\n",
    "from sentence_transformers import SentenceTransformer, util\n",
    "\n",
    "from pyobsidian import models, client"
   ],
   "outputs": [],
   "metadata": {}
  },
  {
   "cell_type": "code",
   "execution_count": null,
   "source": [
    "folder = 'Media/Readwise'\n",
    "scope = models.PathScope(folder)\n",
    "c = client.PyobsidianClient(scopes=[scope], model_name='all-mpnet-base-v2')"
   ],
   "outputs": [],
   "metadata": {}
  },
  {
   "cell_type": "code",
   "execution_count": 135,
   "source": [
    "def trim(text):\n",
    "    return text.split('## Highlights')[-1].strip()"
   ],
   "outputs": [],
   "metadata": {}
  },
  {
   "cell_type": "code",
   "execution_count": 136,
   "source": [
    "c.encode_notes(files=c.files_in_scope, trim_fn=trim)"
   ],
   "outputs": [
    {
     "output_type": "stream",
     "name": "stdout",
     "text": [
      "Encoding 168 notes...\n"
     ]
    }
   ],
   "metadata": {}
  },
  {
   "cell_type": "code",
   "execution_count": 131,
   "source": [
    "query_str = 'I want to know about forgetting'\n",
    "res = c.query(query_str)"
   ],
   "outputs": [],
   "metadata": {}
  },
  {
   "cell_type": "code",
   "execution_count": null,
   "source": [
    "for r in res[0]:\n",
    "    print(c.blocks[r['corpus_id']])\n",
    "    print(r['score'])\n",
    "    print('\\n')"
   ],
   "outputs": [],
   "metadata": {}
  },
  {
   "cell_type": "code",
   "execution_count": null,
   "source": [],
   "outputs": [],
   "metadata": {}
  }
 ],
 "metadata": {
  "orig_nbformat": 4,
  "language_info": {
   "name": "python",
   "version": "3.9.5",
   "mimetype": "text/x-python",
   "codemirror_mode": {
    "name": "ipython",
    "version": 3
   },
   "pygments_lexer": "ipython3",
   "nbconvert_exporter": "python",
   "file_extension": ".py"
  },
  "kernelspec": {
   "name": "python3",
   "display_name": "Python 3.9.5 64-bit ('.venv': venv)"
  },
  "interpreter": {
   "hash": "de200fbe60e2f1a3aca6ba643ec3a51a11057ff9df785627a824a4f083bc8b2b"
  }
 },
 "nbformat": 4,
 "nbformat_minor": 2
}