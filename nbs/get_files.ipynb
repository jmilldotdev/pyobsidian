{
 "cells": [
  {
   "cell_type": "code",
   "execution_count": 1,
   "source": [
    "%load_ext autoreload\n",
    "%autoreload 2\n",
    "\n",
    "import sys\n",
    "sys.path.append('..')"
   ],
   "outputs": [],
   "metadata": {}
  },
  {
   "cell_type": "code",
   "execution_count": 92,
   "source": [
    "from pathlib import Path\n",
    "\n",
    "from sentence_transformers import SentenceTransformer, util\n",
    "\n",
    "from pyobsidian import models, client"
   ],
   "outputs": [],
   "metadata": {}
  },
  {
   "cell_type": "code",
   "execution_count": null,
   "source": [
    "folder = 'Media/Readwise'\n",
    "scope = models.PathScope(folder)\n",
    "c = client.PyobsidianClient(scopes=[scope], model_name='all-mpnet-base-v2')"
   ],
   "outputs": [],
   "metadata": {}
  },
  {
   "cell_type": "code",
   "execution_count": 135,
   "source": [
    "def trim(text):\n",
    "    return text.split('## Highlights')[-1].strip()"
   ],
   "outputs": [],
   "metadata": {}
  },
  {
   "cell_type": "code",
   "execution_count": 136,
   "source": [
    "c.encode_notes(files=c.files_in_scope, trim_fn=trim)"
   ],
   "outputs": [
    {
     "output_type": "stream",
     "name": "stdout",
     "text": [
      "Encoding 168 notes...\n"
     ]
    }
   ],
   "metadata": {}
  },
  {
   "cell_type": "code",
   "execution_count": 147,
   "source": [
    "query_str = 'What have I saved about similarity of ideas?'\n",
    "res = c.query(query_str)"
   ],
   "outputs": [],
   "metadata": {}
  },
  {
   "cell_type": "code",
   "execution_count": 148,
   "source": [
    "for r in res[0]:\n",
    "    print(c.blocks[r['corpus_id']])\n",
    "    print(r['score'])\n",
    "    print('\\n')"
   ],
   "outputs": [
    {
     "output_type": "stream",
     "name": "stdout",
     "text": [
      "- underneath these differences, there is the same fertile sense of ideas growing and being refined, of a conviction that there is something here to be known, and a determination to get to the bottom of it\n",
      "0.5458678007125854\n",
      "\n",
      "\n",
      "- The restriction to one idea per note is also the precondition to recombine them freely later\n",
      "0.4846588969230652\n",
      "\n",
      "\n",
      "- Even groundbreaking paradigm shifts are most often the consequence of many small moves in the right direction instead of one big idea. This is why the search for small differences is key. It is such an important skill to see differences between seemingly similar concepts, or connections between seemingly different ideas.\n",
      "0.48424383997917175\n",
      "\n",
      "\n",
      "- Having read more does not automatically mean having more ideas. Especially in the beginning, it means having fewer ideas to work with, because you know that others have already thought of most of them.\n",
      "0.4800460934638977\n",
      "\n",
      "\n",
      "- Working inside my Second Brain, paradoxically, I can see that ideas by themselves aren’t worth much. When you have so many choices for every decision you need to make, so many answers to any question you might ask, so many possibilities for every unknown, it becomes crystal clear that information is a commodity. What is truly scarce and precious is humans and their stories, their desires, their dreams, their consciousness. When you can create anything out of anything, the question that becomes front and center is, “What do I WANT?” No fact or insight can answer this. ([Location 2630](https://readwise.io/to_kindle?action=open&asin=B08SYBV7BJ&location=2630))\n",
      "0.4795997142791748\n",
      "\n",
      "\n"
     ]
    }
   ],
   "metadata": {}
  },
  {
   "cell_type": "code",
   "execution_count": null,
   "source": [],
   "outputs": [],
   "metadata": {}
  }
 ],
 "metadata": {
  "orig_nbformat": 4,
  "language_info": {
   "name": "python",
   "version": "3.9.5",
   "mimetype": "text/x-python",
   "codemirror_mode": {
    "name": "ipython",
    "version": 3
   },
   "pygments_lexer": "ipython3",
   "nbconvert_exporter": "python",
   "file_extension": ".py"
  },
  "kernelspec": {
   "name": "python3",
   "display_name": "Python 3.9.5 64-bit ('.venv': venv)"
  },
  "interpreter": {
   "hash": "de200fbe60e2f1a3aca6ba643ec3a51a11057ff9df785627a824a4f083bc8b2b"
  }
 },
 "nbformat": 4,
 "nbformat_minor": 2
}